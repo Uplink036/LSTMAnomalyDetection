{
 "cells": [
  {
   "cell_type": "markdown",
   "metadata": {},
   "source": [
    "## Imports"
   ]
  },
  {
   "cell_type": "code",
   "execution_count": null,
   "metadata": {},
   "outputs": [],
   "source": [
    "import pymongo\n",
    "import pandas as pd\n",
    "import matplotlib.pyplot as plt\n",
    "import seaborn as sns\n"
   ]
  },
  {
   "cell_type": "code",
   "execution_count": null,
   "metadata": {},
   "outputs": [],
   "source": [
    "def _connect_mongo(host, port, db):\n",
    "    \"\"\" A util for making a connection to mongo \"\"\"\n",
    "    try:\n",
    "        client = pymongo.MongoClient(host, port)\n",
    "        client.server_info()\n",
    "    except pymongo.errors.ServerSelectionTimeoutError as err:\n",
    "        print(err)\n",
    "        print(\"Are you sure your database is on and this can reach it?\") \n",
    "        raise ConnectionError\n",
    "    return client[db]\n",
    "\n",
    "\n",
    "def read_mongo(db, collection, query={}, host='localhost', port=27017, no_id=True):\n",
    "    \"\"\" Read from Mongo and Store into DataFrame \"\"\"\n",
    "    # Connect to MongoDB\n",
    "    db = _connect_mongo(host=host, port=port, db=db)\n",
    "\n",
    "    # Make a query to the specific DB and Collection\n",
    "    cursor = db[collection].find(query)\n",
    "    # Expand the cursor and construct the DataFrame\n",
    "    df =  pd.DataFrame(list(cursor))\n",
    "    # Delete the _id\n",
    "    if no_id:\n",
    "        del df['_id']\n",
    "\n",
    "    return df\n",
    "\n",
    "train_df = read_mongo(\"NETWORK\", \"train\")\n",
    "test_df = read_mongo(\"NETWORK\", \"test\")"
   ]
  },
  {
   "cell_type": "markdown",
   "metadata": {},
   "source": [
    "## Data Cleaning and Understanding"
   ]
  },
  {
   "cell_type": "code",
   "execution_count": null,
   "metadata": {},
   "outputs": [],
   "source": [
    "train_df.head(5)"
   ]
  },
  {
   "cell_type": "markdown",
   "metadata": {},
   "source": [
    "### Check for NaNs"
   ]
  },
  {
   "cell_type": "code",
   "execution_count": null,
   "metadata": {},
   "outputs": [],
   "source": [
    "train_df.isnull().values.any()"
   ]
  },
  {
   "cell_type": "markdown",
   "metadata": {},
   "source": [
    "### Check how the rest of the data looks like"
   ]
  },
  {
   "cell_type": "code",
   "execution_count": null,
   "metadata": {},
   "outputs": [],
   "source": [
    "train_df.describe()"
   ]
  },
  {
   "cell_type": "markdown",
   "metadata": {},
   "source": [
    "### Check string answer "
   ]
  },
  {
   "cell_type": "code",
   "execution_count": null,
   "metadata": {},
   "outputs": [],
   "source": [
    "train_df[\"service\"].drop_duplicates()"
   ]
  },
  {
   "cell_type": "code",
   "execution_count": null,
   "metadata": {},
   "outputs": [],
   "source": [
    "train_df[\"protocol_type\"].drop_duplicates()"
   ]
  },
  {
   "cell_type": "code",
   "execution_count": null,
   "metadata": {},
   "outputs": [],
   "source": [
    "train_df[\"flag\"].drop_duplicates()"
   ]
  },
  {
   "cell_type": "code",
   "execution_count": null,
   "metadata": {},
   "outputs": [],
   "source": [
    "train_df[\"attack\"].drop_duplicates()"
   ]
  },
  {
   "cell_type": "code",
   "execution_count": null,
   "metadata": {},
   "outputs": [],
   "source": [
    "def label_encoder_mapping(dataframe: pd.DataFrame, coloumn: str):\n",
    "    labels = list(dataframe[coloumn].drop_duplicates().values)\n",
    "    labels.sort()\n",
    "\n",
    "    mapping = {}\n",
    "    for index, label in enumerate(labels):\n",
    "        mapping[label] = index+1\n",
    "\n",
    "    return mapping\n",
    "\n",
    "def transform_label(dataframe: pd.DataFrame, coloumns: list):\n",
    "    for coloumn in coloumns:\n",
    "        mapping = label_encoder_mapping(dataframe, coloumn)\n",
    "        dataframe[coloumn] = dataframe[coloumn].map(mapping)"
   ]
  },
  {
   "cell_type": "code",
   "execution_count": null,
   "metadata": {},
   "outputs": [],
   "source": [
    "transform_label(train_df, [\"attack\", \"flag\", \"protocol_type\", \"service\"])"
   ]
  },
  {
   "cell_type": "code",
   "execution_count": null,
   "metadata": {},
   "outputs": [],
   "source": [
    "train_df[\"attack\"].drop_duplicates()"
   ]
  },
  {
   "cell_type": "markdown",
   "metadata": {},
   "source": [
    "### Normalise values\n",
    "Between 0 and 1, except for attack.\n",
    "// Maybe should not even use attack for final training and make him unsupervised or make them all 1 ones except for no attack."
   ]
  },
  {
   "cell_type": "code",
   "execution_count": null,
   "metadata": {},
   "outputs": [],
   "source": [
    "without_attack = train_df.drop([\"attack\"], axis=1, inplace=False)\n",
    "normalized_df=(without_attack-without_attack.mean())/without_attack.std()\n"
   ]
  },
  {
   "cell_type": "code",
   "execution_count": null,
   "metadata": {},
   "outputs": [],
   "source": [
    "normalized_df[\"attack\"] = train_df[\"attack\"]"
   ]
  },
  {
   "cell_type": "code",
   "execution_count": null,
   "metadata": {},
   "outputs": [],
   "source": [
    "normalized_df"
   ]
  },
  {
   "cell_type": "markdown",
   "metadata": {},
   "source": [
    "## Data distribution"
   ]
  },
  {
   "cell_type": "code",
   "execution_count": null,
   "metadata": {},
   "outputs": [],
   "source": [
    "distribution = test_df[\"attack\"].value_counts().reset_index()\n",
    "distribution.columns = [\"attack\", \"count\"]\n",
    "print(distribution)"
   ]
  },
  {
   "cell_type": "code",
   "execution_count": null,
   "metadata": {},
   "outputs": [],
   "source": [
    "fig = plt.figure(figsize=(5,10))\n",
    "sns.barplot(data=distribution, y=\"attack\", x=\"count\", palette='viridis')\n",
    "\n",
    "plt.xlabel('Frequency')\n",
    "plt.ylabel('Value')\n",
    "plt.title('Distribution of Integer Values')\n",
    "plt.tight_layout()\n",
    "plt.show()"
   ]
  },
  {
   "cell_type": "code",
   "execution_count": null,
   "metadata": {},
   "outputs": [],
   "source": [
    "threshold = 500\n",
    "high_freq = distribution[distribution['count'] >= threshold]\n",
    "low_freq = distribution[distribution['count'] < threshold]\n",
    "\n",
    "other_count = low_freq['count'].sum()\n",
    "if other_count > 0:\n",
    "    other_row = pd.DataFrame([{'attack': 'Other', 'count': other_count}])\n",
    "    distribution_filtered = pd.concat([high_freq, other_row], ignore_index=True)\n",
    "else:\n",
    "    distribution_filtered = high_freq\n",
    "\n",
    "sns.barplot(data=distribution_filtered, y='attack', x='count', palette='magma')\n",
    "\n",
    "plt.xlabel('Frequency')\n",
    "plt.ylabel('Value')\n",
    "plt.title('Distribution of Integer Values (Grouped)')\n",
    "plt.tight_layout()\n",
    "plt.show()"
   ]
  },
  {
   "cell_type": "markdown",
   "metadata": {},
   "source": []
  }
 ],
 "metadata": {
  "kernelspec": {
   "display_name": "Python 3",
   "language": "python",
   "name": "python3"
  },
  "language_info": {
   "codemirror_mode": {
    "name": "ipython",
    "version": 3
   },
   "file_extension": ".py",
   "mimetype": "text/x-python",
   "name": "python",
   "nbconvert_exporter": "python",
   "pygments_lexer": "ipython3",
   "version": "3.12.10"
  }
 },
 "nbformat": 4,
 "nbformat_minor": 2
}
